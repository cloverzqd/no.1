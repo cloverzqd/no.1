import pandas as pd
import csv
import os
import glob
a=glob.glob("E:\EPRI\BeiChe_Tielin\event_log\*.csv")
#����ļ����������ļ�
csvFile2=open('E:\EPRI\BeiChe_Tielin\event_log/0002.csv','w',newline='') 
fileheader=["eventno","datetime"."eventype"]
dict_writer=csv.DictWriter(csvFile2,fileheader)
dict_writer.writerow(dict(zip(fileheader,fileheader)))
for name in a:
    with open (name) as csc_file:
        reader=csv.DictReader(csv_file)#��ȡΪ�ֵ�
    #for line in reader:
    #   print(line)
        for row in reader:
            for i in range(70009,70016):
                if row['eventtype']==str(i): ##while(row
                    dict_writer.writerow(row)
                    print(row)
    #for row in reader:
            for i in range(60024,60031):
                if row['eventtype']==str(i): ##while(row
                    dict_writer.writerow(row)
                    print(row) 