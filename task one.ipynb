{
 "cells": [
  {
   "cell_type": "code",
   "execution_count": 3,
   "metadata": {},
   "outputs": [],
   "source": [
    "import pandas as pd\n",
    "import csv\n",
    "import os\n",
    "import glob\n",
    "a=glob.glob(\"E:\\EPRI\\BeiChe_Tielin\\event_log\\*.csv\")\n",
    "#输出文件夹下所有文件\n",
    "csvFile2=open('E:\\EPRI\\BeiChe_Tielin\\event_log/0002.csv','w',newline='') \n",
    "fileheader=[\"eventno\",\"datetime\",\"eventtype\"]\n",
    "dict_writer=csv.DictWriter(csvFile2,fileheader)\n",
    "dict_writer.writerow(dict(zip(fileheader,fileheader)))\n",
    "for name in a:\n",
    "    with open (name) as csv_file:\n",
    "        reader=csv.DictReader(csv_file)#读取为字典\n",
    "    #for line in reader:\n",
    "    #   print(line)\n",
    "        for row in reader:\n",
    "            for i in range(70009,70016):\n",
    "                if row['eventtype']==str(i): ##while(row\n",
    "                    dict_writer.writerow(row)\n",
    "                    #print(row)\n",
    "    #for row in reader:\n",
    "            for i in range(60024,60031):\n",
    "                if row['eventtype']==str(i): ##while(row\n",
    "                    dict_writer.writerow(row)\n",
    "                    #print(row) "
   ]
  }
 ],
 "metadata": {
  "kernelspec": {
   "display_name": "Python 3",
   "language": "python",
   "name": "python3"
  }
 },
 "nbformat": 4,
 "nbformat_minor": 2
}
