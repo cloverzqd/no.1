{
 "cells": [
  {
   "cell_type": "markdown",
   "metadata": {},
   "source": [
    "# python之OS模块详解 \n",
    "https://www.cnblogs.com/ginvip/p/6439679.html\n",
    "\n",
    "该程序为历遍文件夹所有csv程序，选取固定列相应的值之后读入新的csv"
   ]
  },
  {
   "cell_type": "code",
   "execution_count": 8,
   "metadata": {},
   "outputs": [],
   "source": [
    "import pandas as pd\n",
    "import os\n",
    "from sys import *\n",
    "\n",
    "alist = [\n",
    "60024,#\tGbox Hss Temperature Too High\n",
    "60025,#\tGbox Hss Bearing Tmp Too High Shtdwn\n",
    "60026,#\tGbox Hss Bearing Tmp Too High Shtdwn Too Frequent\n",
    "60027,#\tGbox Hss Tmp Critically High\n",
    "60028,#\tGbox Lss Temperature Too High\n",
    "60029,#\tGbox Lss Temp Too High Shtdwn\n",
    "60030,#\tGbox Lss Temp Too High Shtdwn Too Frequent\n",
    "60031,#\tGbox Lss Temp Critically High\n",
    "70009,#\tGenerator Bearing Too Hot\n",
    "70010,#\tGen Bearing Too Hot Shutdown\n",
    "70011,#\tGen Bearing Too Hot Shutdown Too Frequent\n",
    "70012,#\tGen Bearing Too Cold Shutdown\n",
    "70013,#\tGenerator Bearing Too Hot\n",
    "70014,#\tGen Bearing Too Hot Shutdown\n",
    "70015,#\tGen Bearing Too Hot Shutdown Too Frequent\n",
    "70016,#\tGen Bearing Too Cold Shutdown\n",
    "]\n",
    "\n",
    "file_dir = u'E:\\EPRI\\BeiChe_Tielin\\event_log'\n",
    "\n",
    "ls = os.listdir(file_dir) # 输出所有文件和文件夹\n",
    "\n",
    "wt_num_list = []\n",
    "for x in range(0,(len(ls))):\n",
    "    # 从文件名称中获取风机编号\n",
    "    path_temp = ls[x]\n",
    "    if path_temp.endswith('csv'):\n",
    "        wt_num = path_temp[-6] + path_temp[-5]\n",
    "        wt_num_list.append(int(wt_num)) #append() 方法用于在列表末尾添加新的对象。\n",
    "        #print(wt_num)\n",
    "\n",
    "#提供了基于字典的访问局部和全局变量的方式。名字空间只是一个字典，它的键字就是变量名\n",
    "G = globals() \n",
    "for wt in wt_num_list:\n",
    "    G['df_'+str(wt)] = pd.read_csv(file_dir + os.sep + 'eventlog_%d.csv'%(wt))\n",
    "    #print(G['df_'+str(wt)])\n",
    "    #os.sep 根据你所处的平台，相当于分割符号 win上'\\' ，在 Linux 上 是 ‘/’\n",
    "    G['rs_'+str(wt)] = G['df_'+str(wt)]['eventtype'].isin(alist)#——得到true、false\n",
    "    #                 ———df————  —[属性列]—\n",
    "    #根据某属性来选取指定条件的行，这时isin方法就特别有效。\n",
    "    new_df = G['df_'+str(wt)][G['rs_'+str(wt)]]\n",
    "    #        ———df———  —————————\n",
    "    #         相当于一个df   [ 返回true/false](若返回true，返回该位置的值)\n",
    "    new_df.to_csv(file_dir+os.sep+'rs_%d.csv'%(wt), index=False)\n"
   ]
  },
  {
   "cell_type": "code",
   "execution_count": null,
   "metadata": {},
   "outputs": [],
   "source": []
  }
 ],
 "metadata": {
  "kernelspec": {
   "display_name": "Python 3",
   "language": "python",
   "name": "python3"
  },
  "language_info": {
   "codemirror_mode": {
    "name": "ipython",
    "version": 3
   },
   "file_extension": ".py",
   "mimetype": "text/x-python",
   "name": "python",
   "nbconvert_exporter": "python",
   "pygments_lexer": "ipython3",
   "version": "3.6.4"
  }
 },
 "nbformat": 4,
 "nbformat_minor": 2
}
